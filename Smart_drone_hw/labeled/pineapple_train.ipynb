{
 "cells": [
  {
   "cell_type": "markdown",
   "id": "b65b8a47",
   "metadata": {},
   "source": [
    "# 使用 yolo11"
   ]
  },
  {
   "cell_type": "code",
   "execution_count": 5,
   "id": "aefffa7b",
   "metadata": {},
   "outputs": [
    {
     "name": "stdout",
     "output_type": "stream",
     "text": [
      "✅ pineapple.yaml created!\n"
     ]
    }
   ],
   "source": [
    "import yaml\n",
    "\n",
    "data_yaml = {\n",
    "    'train': './dataset/images/train',\n",
    "    'val': './dataset/images/val',  \n",
    "    'test': './dataset/images/test',\n",
    "    'nc': 1,\n",
    "    'names': ['pineapple']\n",
    "}\n",
    "\n",
    "with open('./pineapple.yaml', 'w') as f:\n",
    "    yaml.dump(data_yaml, f)\n",
    "\n",
    "print(\"✅ pineapple.yaml created!\")"
   ]
  },
  {
   "cell_type": "code",
   "execution_count": null,
   "id": "a0d387f9",
   "metadata": {},
   "outputs": [],
   "source": [
    "from ultralytics import YOLO\n",
    "\n",
    "# Load a pretrained YOLO11n model\n",
    "model = YOLO(\"yolo11n.pt\")\n",
    "\n",
    "# Train the model on the COCO8 dataset for 100 epochs\n",
    "train_results = model.train(\n",
    "    data=\"pineapple.yaml\",  # Path to dataset configuration file\n",
    "    epochs=100,  # Number of training epochs\n",
    "    imgsz=640,  # Image size for training\n",
    "    device=\"gpu\",  # Device to run on (e.g., 'cpu', 0, [0,1,2,3])\n",
    ")\n",
    "\n",
    "# Evaluate the model's performance on the validation set\n",
    "metrics = model.val()\n",
    "\n",
    "# test the model by test dataset\n",
    "test_results = model.val(data=\"pineapple.yaml\", split=\"test\")\n",
    "\n",
    "# Export the model to ONNX format for deployment\n",
    "path = model.export(format=\"onnx\")  # Returns the path to the exported model"
   ]
  }
 ],
 "metadata": {
  "kernelspec": {
   "display_name": "base",
   "language": "python",
   "name": "python3"
  },
  "language_info": {
   "codemirror_mode": {
    "name": "ipython",
    "version": 3
   },
   "file_extension": ".py",
   "mimetype": "text/x-python",
   "name": "python",
   "nbconvert_exporter": "python",
   "pygments_lexer": "ipython3",
   "version": "3.12.3"
  }
 },
 "nbformat": 4,
 "nbformat_minor": 5
}
